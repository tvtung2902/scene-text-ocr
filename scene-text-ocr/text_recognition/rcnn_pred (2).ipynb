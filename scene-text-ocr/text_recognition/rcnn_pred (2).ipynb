{
  "nbformat": 4,
  "nbformat_minor": 0,
  "metadata": {
    "colab": {
      "provenance": [],
      "gpuType": "T4"
    },
    "kernelspec": {
      "name": "python3",
      "display_name": "Python 3"
    },
    "language_info": {
      "name": "python"
    },
    "accelerator": "GPU",
    "widgets": {
      "application/vnd.jupyter.widget-state+json": {
        "5e12ce2b18624f998782270163f9745d": {
          "model_module": "@jupyter-widgets/controls",
          "model_name": "FileUploadModel",
          "model_module_version": "1.5.0",
          "state": {
            "_counter": 1,
            "_dom_classes": [],
            "_model_module": "@jupyter-widgets/controls",
            "_model_module_version": "1.5.0",
            "_model_name": "FileUploadModel",
            "_view_count": null,
            "_view_module": "@jupyter-widgets/controls",
            "_view_module_version": "1.5.0",
            "_view_name": "FileUploadView",
            "accept": "image/*",
            "button_style": "",
            "data": [
              null
            ],
            "description": "Upload",
            "description_tooltip": null,
            "disabled": false,
            "error": "",
            "icon": "upload",
            "layout": "IPY_MODEL_b165842d76a34a429d6df43fd66a2fe5",
            "metadata": [
              {
                "name": "Screenshot 2025-07-27 231835.png",
                "type": "image/png",
                "size": 60376,
                "lastModified": 1753633115767
              }
            ],
            "multiple": false,
            "style": "IPY_MODEL_2b83c49061204b52bafc4a54ad286c84"
          }
        },
        "b165842d76a34a429d6df43fd66a2fe5": {
          "model_module": "@jupyter-widgets/base",
          "model_name": "LayoutModel",
          "model_module_version": "1.2.0",
          "state": {
            "_model_module": "@jupyter-widgets/base",
            "_model_module_version": "1.2.0",
            "_model_name": "LayoutModel",
            "_view_count": null,
            "_view_module": "@jupyter-widgets/base",
            "_view_module_version": "1.2.0",
            "_view_name": "LayoutView",
            "align_content": null,
            "align_items": null,
            "align_self": null,
            "border": null,
            "bottom": null,
            "display": null,
            "flex": null,
            "flex_flow": null,
            "grid_area": null,
            "grid_auto_columns": null,
            "grid_auto_flow": null,
            "grid_auto_rows": null,
            "grid_column": null,
            "grid_gap": null,
            "grid_row": null,
            "grid_template_areas": null,
            "grid_template_columns": null,
            "grid_template_rows": null,
            "height": null,
            "justify_content": null,
            "justify_items": null,
            "left": null,
            "margin": null,
            "max_height": null,
            "max_width": null,
            "min_height": null,
            "min_width": null,
            "object_fit": null,
            "object_position": null,
            "order": null,
            "overflow": null,
            "overflow_x": null,
            "overflow_y": null,
            "padding": null,
            "right": null,
            "top": null,
            "visibility": null,
            "width": null
          }
        },
        "2b83c49061204b52bafc4a54ad286c84": {
          "model_module": "@jupyter-widgets/controls",
          "model_name": "ButtonStyleModel",
          "model_module_version": "1.5.0",
          "state": {
            "_model_module": "@jupyter-widgets/controls",
            "_model_module_version": "1.5.0",
            "_model_name": "ButtonStyleModel",
            "_view_count": null,
            "_view_module": "@jupyter-widgets/base",
            "_view_module_version": "1.2.0",
            "_view_name": "StyleView",
            "button_color": null,
            "font_weight": ""
          }
        }
      }
    }
  },
  "cells": [
    {
      "cell_type": "markdown",
      "source": [
        "#Connect drive"
      ],
      "metadata": {
        "id": "XFp8JYa-ptKC"
      }
    },
    {
      "cell_type": "code",
      "execution_count": 1,
      "metadata": {
        "colab": {
          "base_uri": "https://localhost:8080/"
        },
        "id": "X9Jw_OjEjkPg",
        "outputId": "5869f63c-d075-4340-bb18-fcaf1b12e4e8"
      },
      "outputs": [
        {
          "output_type": "stream",
          "name": "stdout",
          "text": [
            "Drive already mounted at /content/drive; to attempt to forcibly remount, call drive.mount(\"/content/drive\", force_remount=True).\n"
          ]
        }
      ],
      "source": [
        "from google.colab import drive\n",
        "drive.mount('/content/drive')"
      ]
    },
    {
      "cell_type": "markdown",
      "source": [
        "#Vocab"
      ],
      "metadata": {
        "id": "MjJMSa8ZpvsV"
      }
    },
    {
      "cell_type": "code",
      "source": [
        "import torch\n",
        "from torch.nn import functional\n",
        "\n",
        "class Vocab:\n",
        "    def __init__(self, paths):\n",
        "        self.chars = None\n",
        "        self.image_paths = []\n",
        "        self.labels = []\n",
        "        self.load_dataset(paths)\n",
        "\n",
        "    def load_dataset(self, paths):\n",
        "        if isinstance(paths, str):\n",
        "            paths = [paths]\n",
        "\n",
        "        for path in paths:\n",
        "            with open(path, 'r', encoding='utf-8') as f:\n",
        "                for line in f:\n",
        "                    parts = line.strip().split('\\t')\n",
        "                    if len(parts) != 2:\n",
        "                        continue\n",
        "                    img_path, label = parts\n",
        "                    self.image_paths.append(img_path)\n",
        "                    self.labels.append(label)\n",
        "        print(f\"Total {len(self.image_paths)} images loaded from {len(paths)} file(s)\")\n",
        "\n",
        "    def create_vocab(self):\n",
        "        letters = \"\".join(self.labels)\n",
        "        unique_chars = sorted(set(letters))\n",
        "\n",
        "        self.chars = \"\".join(unique_chars)\n",
        "\n",
        "        self.char_2_idx = {char: idx + 2 for idx, char in enumerate(self.chars)}\n",
        "        self.blank_index = 1  # index cho CTC blank\n",
        "        self.idx_2_char = {idx: char for char, idx in self.char_2_idx.items()}\n",
        "\n",
        "        print(f\"Vocab size (with blank): {len(self.chars) + 1}\")\n",
        "        print(f\"char_2_idx: {self.char_2_idx}\")\n",
        "\n",
        "    def encode(self, input_sequence):\n",
        "        max_label_len = max(len(label) for label in self.labels)\n",
        "        encoded = torch.tensor(\n",
        "            [self.char_2_idx.get(char, 0) for char in input_sequence], dtype=torch.long  #  -> 0 (pad)\n",
        "        )\n",
        "        label_len = len(encoded)\n",
        "        lengths = torch.tensor(label_len, dtype=torch.long)\n",
        "        padded = functional.pad(encoded, (0, max_label_len - label_len))\n",
        "        return padded, lengths\n",
        "\n",
        "    def decode(self, encode_sequences):\n",
        "        decode_sequences = []\n",
        "\n",
        "        for seq in encode_sequences:\n",
        "            decode_label = []\n",
        "            prev_token = None\n",
        "            if isinstance(seq, torch.Tensor):\n",
        "                seq = seq.tolist()\n",
        "\n",
        "            for token in seq:\n",
        "                if token != self.blank_index and token != 0 and token != prev_token:\n",
        "                    char = self.idx_2_char.get(token, '')\n",
        "                    decode_label.append(char)\n",
        "                prev_token = token\n",
        "            decode_sequences.append(''.join(decode_label))\n",
        "        return decode_sequences\n",
        "\n",
        "    def idx_2_labels(self, labels):\n",
        "        idx_2_labels = []\n",
        "        for label in labels:\n",
        "            if isinstance(label, torch.Tensor):\n",
        "                label = label.tolist()\n",
        "            chars = [self.idx_2_char.get(idx, '') for idx in label if idx != 0]\n",
        "            idx_2_labels.append(''.join(chars))\n",
        "        return idx_2_labels\n",
        "\n",
        "vocab = Vocab([\n",
        "    \"/content/drive/MyDrive/scene-text-ocr/train.txt\",\n",
        "    \"/content/drive/MyDrive/scene-text-ocr/val.txt\",\n",
        "    \"/content/drive/MyDrive/scene-text-ocr/test.txt\"\n",
        "])\n",
        "vocab.create_vocab()\n"
      ],
      "metadata": {
        "colab": {
          "base_uri": "https://localhost:8080/"
        },
        "id": "nl0iYOOFj6AB",
        "outputId": "be16a9dd-231d-43b6-af02-2cb81837c3ee",
        "collapsed": true
      },
      "execution_count": 2,
      "outputs": [
        {
          "output_type": "stream",
          "name": "stdout",
          "text": [
            "Total 1088 images loaded from 3 file(s)\n",
            "Vocab size (with blank): 37\n",
            "char_2_idx: {'0': 2, '1': 3, '2': 4, '3': 5, '4': 6, '5': 7, '6': 8, '7': 9, '8': 10, '9': 11, 'a': 12, 'b': 13, 'c': 14, 'd': 15, 'e': 16, 'f': 17, 'g': 18, 'h': 19, 'i': 20, 'j': 21, 'k': 22, 'l': 23, 'm': 24, 'n': 25, 'o': 26, 'p': 27, 'q': 28, 'r': 29, 's': 30, 't': 31, 'u': 32, 'v': 33, 'w': 34, 'x': 35, 'y': 36, 'z': 37}\n"
          ]
        }
      ]
    },
    {
      "cell_type": "markdown",
      "source": [
        "#Dataset"
      ],
      "metadata": {
        "id": "5kqJ3b9sp5GN"
      }
    },
    {
      "cell_type": "code",
      "source": [
        "from PIL import Image\n",
        "from torch.utils.data import Dataset\n",
        "\n",
        "class OCRDataSet(Dataset):\n",
        "    def __init__(self, mode = 'train', label_encoder = None, transform= None):\n",
        "        self.transform = transform\n",
        "        self.image_paths = []\n",
        "        self.labels = []\n",
        "        self.label_encoder = label_encoder\n",
        "        if mode == 'train':\n",
        "            path = \"/content/drive/MyDrive/scene-text-ocr/train.txt\"\n",
        "        elif mode == 'val':\n",
        "            path = \"/content/drive/MyDrive/scene-text-ocr/val.txt\"\n",
        "        elif mode == 'test':\n",
        "            path = \"/content/drive/MyDrive/scene-text-ocr/test.txt\"\n",
        "        else:\n",
        "            raise NotImplementedError\n",
        "\n",
        "        with open(path, 'r', encoding='utf-8') as f:\n",
        "            for line in f:\n",
        "                label = line.strip().split('\\t')[1]\n",
        "                img_path = line.strip().split('\\t')[0]\n",
        "                self.image_paths.append(img_path)\n",
        "                self.labels.append(label)\n",
        "\n",
        "\n",
        "    def __len__(self):\n",
        "        return len(self.image_paths)\n",
        "\n",
        "    def __getitem__(self, idx):\n",
        "        image_path = self.image_paths[idx]\n",
        "        label = self.labels[idx]\n",
        "        image = Image.open(os.path.join(image_path)).convert('RGB')\n",
        "        if self.transform:\n",
        "            image = self.transform(image)\n",
        "\n",
        "        if self.label_encoder:\n",
        "            encoded_label, label_len = self.label_encoder(label)\n",
        "            return image, encoded_label, label_len\n",
        "        else:\n",
        "            exit(-1)\n",
        "\n",
        "if __name__ == '__main__':\n",
        "    vocab = Vocab([\n",
        "        \"/content/drive/MyDrive/scene-text-ocr/train.txt\",\n",
        "        \"/content/drive/MyDrive/scene-text-ocr/val.txt\",\n",
        "        \"/content/drive/MyDrive/scene-text-ocr/test.txt\"\n",
        "    ])\n",
        "    vocab.create_vocab()\n",
        "    hw = OCRDataSet(mode = 'train', label_encoder = vocab.encode)\n"
      ],
      "metadata": {
        "colab": {
          "base_uri": "https://localhost:8080/"
        },
        "id": "rg1tOkdzj8Kf",
        "outputId": "0f54cc10-9f74-411e-cd9f-c9a7ab5faa2a"
      },
      "execution_count": 3,
      "outputs": [
        {
          "output_type": "stream",
          "name": "stdout",
          "text": [
            "Total 1088 images loaded from 3 file(s)\n",
            "Vocab size (with blank): 37\n",
            "char_2_idx: {'0': 2, '1': 3, '2': 4, '3': 5, '4': 6, '5': 7, '6': 8, '7': 9, '8': 10, '9': 11, 'a': 12, 'b': 13, 'c': 14, 'd': 15, 'e': 16, 'f': 17, 'g': 18, 'h': 19, 'i': 20, 'j': 21, 'k': 22, 'l': 23, 'm': 24, 'n': 25, 'o': 26, 'p': 27, 'q': 28, 'r': 29, 's': 30, 't': 31, 'u': 32, 'v': 33, 'w': 34, 'x': 35, 'y': 36, 'z': 37}\n"
          ]
        }
      ]
    },
    {
      "cell_type": "markdown",
      "source": [
        "#Backbone"
      ],
      "metadata": {
        "id": "_91O7XObp_OF"
      }
    },
    {
      "cell_type": "code",
      "source": [
        "import torch\n",
        "import torch.nn as nn\n",
        "from torchvision.models import resnet34\n",
        "\n",
        "class ResNet34Backbone(nn.Module):\n",
        "    def __init__(self, pretrained=True):\n",
        "        super().__init__()\n",
        "        base_model = resnet34(pretrained=pretrained)\n",
        "\n",
        "        old_conv1 = base_model.conv1\n",
        "\n",
        "        new_conv1 = nn.Conv2d(\n",
        "            in_channels=1,\n",
        "            out_channels=old_conv1.out_channels,\n",
        "            kernel_size=old_conv1.kernel_size,\n",
        "            stride=old_conv1.stride,\n",
        "            padding=old_conv1.padding,\n",
        "            bias=old_conv1.bias is not None,\n",
        "        )\n",
        "\n",
        "        if pretrained:\n",
        "            with torch.no_grad():\n",
        "                new_conv1.weight = nn.Parameter(old_conv1.weight.mean(dim=1, keepdim=True))\n",
        "\n",
        "        base_model.conv1 = new_conv1\n",
        "\n",
        "        self.feature_extractor = nn.Sequential(\n",
        "            base_model.conv1,\n",
        "            base_model.bn1,\n",
        "            base_model.relu,\n",
        "            base_model.maxpool,\n",
        "            base_model.layer1,\n",
        "            base_model.layer2,\n",
        "            base_model.layer3,\n",
        "            base_model.layer4,\n",
        "        )\n",
        "\n",
        "        self.pool = nn.AdaptiveAvgPool2d((1, None))\n",
        "\n",
        "    def forward(self, x):\n",
        "        x = self.feature_extractor(x)  # (B, 512, H', W')\n",
        "        x = self.pool(x)               # (B, 512, 1, W)\n",
        "        return x\n"
      ],
      "metadata": {
        "id": "pKpt66lOj9ar"
      },
      "execution_count": 4,
      "outputs": []
    },
    {
      "cell_type": "markdown",
      "source": [
        "#Sequence head"
      ],
      "metadata": {
        "id": "PIsc2bgYqCEk"
      }
    },
    {
      "cell_type": "code",
      "source": [
        "import torch\n",
        "import torch.nn as nn\n",
        "\n",
        "class BiLSTM(nn.Module):\n",
        "    def __init__(self, vocab_size, hidden_size, n_layers, dropout=0.3):\n",
        "        super(BiLSTM, self).__init__()\n",
        "        self.lstm = nn.LSTM(\n",
        "            input_size=512,\n",
        "            hidden_size=hidden_size,\n",
        "            bidirectional=True,\n",
        "            num_layers=n_layers,\n",
        "            dropout=dropout if n_layers > 1 else 0,\n",
        "        )\n",
        "        self.layer_norm = nn.LayerNorm(hidden_size * 2)\n",
        "        self.out = nn.Sequential(\n",
        "            nn.Linear(hidden_size * 2, vocab_size),\n",
        "            nn.LogSoftmax(dim=2),\n",
        "        )\n",
        "\n",
        "    def forward(self, x):\n",
        "        x = x.permute(0, 3, 1, 2)  # (B, W, C, 1)\n",
        "        x = x.view(x.size(0), x.size(1), -1)  # (B, W, 768)\n",
        "        x, _ = self.lstm(x)  # (B, W, 2*hidden)\n",
        "        x = self.layer_norm(x)\n",
        "        x = self.out(x)\n",
        "        x = x.permute(1, 0, 2)  # (W, B, Class)\n",
        "        return x\n"
      ],
      "metadata": {
        "id": "uNUbxOolj-pZ"
      },
      "execution_count": 5,
      "outputs": []
    },
    {
      "cell_type": "markdown",
      "source": [
        "#Model"
      ],
      "metadata": {
        "id": "ZKUpIKVNqGpU"
      }
    },
    {
      "cell_type": "code",
      "source": [
        "import torch\n",
        "import torch.nn as nn\n",
        "\n",
        "class OCRModel(nn.Module):\n",
        "    def __init__(self, vocab_size, hidden_size, n_layers, dropout=0.3, pretrained_backbone=True):\n",
        "        super(OCRModel, self).__init__()\n",
        "        self.backbone = ResNet34Backbone(pretrained=pretrained_backbone)\n",
        "        self.lstm = BiLSTM(\n",
        "            vocab_size=vocab_size,\n",
        "            hidden_size=hidden_size,\n",
        "            n_layers=n_layers,\n",
        "            dropout=dropout,\n",
        "        )\n",
        "\n",
        "    def forward(self, x):\n",
        "        x = self.backbone(x)\n",
        "        x = self.lstm(x)\n",
        "        return x\n",
        "\n",
        "if __name__ == '__main__':\n",
        "    model = OCRModel(vocab_size=38, hidden_size=512, n_layers=2)\n",
        "    dummy_input = torch.randn(1, 1, 100, 420)  # (B, C, H, W)\n",
        "    output = model(dummy_input)\n",
        "    print(\"Final output shape:\", output.shape)\n"
      ],
      "metadata": {
        "id": "qVeOrxaZj__v",
        "colab": {
          "base_uri": "https://localhost:8080/"
        },
        "outputId": "f48bdf22-82e9-4c10-a0b1-fb7d7a79d9bb"
      },
      "execution_count": 6,
      "outputs": [
        {
          "output_type": "stream",
          "name": "stderr",
          "text": [
            "/usr/local/lib/python3.11/dist-packages/torchvision/models/_utils.py:208: UserWarning: The parameter 'pretrained' is deprecated since 0.13 and may be removed in the future, please use 'weights' instead.\n",
            "  warnings.warn(\n",
            "/usr/local/lib/python3.11/dist-packages/torchvision/models/_utils.py:223: UserWarning: Arguments other than a weight enum or `None` for 'weights' are deprecated since 0.13 and may be removed in the future. The current behavior is equivalent to passing `weights=ResNet34_Weights.IMAGENET1K_V1`. You can also use `weights=ResNet34_Weights.DEFAULT` to get the most up-to-date weights.\n",
            "  warnings.warn(msg)\n"
          ]
        },
        {
          "output_type": "stream",
          "name": "stdout",
          "text": [
            "Final output shape: torch.Size([14, 1, 38])\n"
          ]
        }
      ]
    },
    {
      "cell_type": "markdown",
      "source": [
        "# Test"
      ],
      "metadata": {
        "id": "8wFm3d9-uCW0"
      }
    },
    {
      "cell_type": "code",
      "source": [
        "!pip install jiwer"
      ],
      "metadata": {
        "colab": {
          "base_uri": "https://localhost:8080/"
        },
        "id": "0slBJLOMkETn",
        "outputId": "a08c9f4e-1da0-49c9-f5e2-3c14454982e3"
      },
      "execution_count": 7,
      "outputs": [
        {
          "output_type": "stream",
          "name": "stdout",
          "text": [
            "Requirement already satisfied: jiwer in /usr/local/lib/python3.11/dist-packages (4.0.0)\n",
            "Requirement already satisfied: click>=8.1.8 in /usr/local/lib/python3.11/dist-packages (from jiwer) (8.2.1)\n",
            "Requirement already satisfied: rapidfuzz>=3.9.7 in /usr/local/lib/python3.11/dist-packages (from jiwer) (3.13.0)\n"
          ]
        }
      ]
    },
    {
      "cell_type": "code",
      "source": [
        "from jiwer import cer\n",
        "\n",
        "def calculate_cer(preds, target):\n",
        "    total_cer = 0\n",
        "    for pred, target in zip(preds, target):\n",
        "        total_cer += cer(target, pred)\n",
        "    return total_cer / len(preds)\n"
      ],
      "metadata": {
        "id": "R0k8mREbkFn_"
      },
      "execution_count": 8,
      "outputs": []
    },
    {
      "cell_type": "code",
      "source": [
        "save_path = \"/content/drive/MyDrive/checkpoints\"\n",
        "device = torch.device(\"cuda\" if torch.cuda.is_available() else \"cpu\")\n",
        "model = OCRModel(\n",
        "    vocab_size=38,\n",
        "    hidden_size=512,\n",
        "    n_layers=2,\n",
        ")\n",
        "model.to(device)"
      ],
      "metadata": {
        "colab": {
          "base_uri": "https://localhost:8080/"
        },
        "id": "vsp_gAXtk1jO",
        "outputId": "533901af-5bd2-4f01-c975-53affbbd004b"
      },
      "execution_count": 9,
      "outputs": [
        {
          "output_type": "execute_result",
          "data": {
            "text/plain": [
              "OCRModel(\n",
              "  (backbone): ResNet34Backbone(\n",
              "    (feature_extractor): Sequential(\n",
              "      (0): Conv2d(1, 64, kernel_size=(7, 7), stride=(2, 2), padding=(3, 3), bias=False)\n",
              "      (1): BatchNorm2d(64, eps=1e-05, momentum=0.1, affine=True, track_running_stats=True)\n",
              "      (2): ReLU(inplace=True)\n",
              "      (3): MaxPool2d(kernel_size=3, stride=2, padding=1, dilation=1, ceil_mode=False)\n",
              "      (4): Sequential(\n",
              "        (0): BasicBlock(\n",
              "          (conv1): Conv2d(64, 64, kernel_size=(3, 3), stride=(1, 1), padding=(1, 1), bias=False)\n",
              "          (bn1): BatchNorm2d(64, eps=1e-05, momentum=0.1, affine=True, track_running_stats=True)\n",
              "          (relu): ReLU(inplace=True)\n",
              "          (conv2): Conv2d(64, 64, kernel_size=(3, 3), stride=(1, 1), padding=(1, 1), bias=False)\n",
              "          (bn2): BatchNorm2d(64, eps=1e-05, momentum=0.1, affine=True, track_running_stats=True)\n",
              "        )\n",
              "        (1): BasicBlock(\n",
              "          (conv1): Conv2d(64, 64, kernel_size=(3, 3), stride=(1, 1), padding=(1, 1), bias=False)\n",
              "          (bn1): BatchNorm2d(64, eps=1e-05, momentum=0.1, affine=True, track_running_stats=True)\n",
              "          (relu): ReLU(inplace=True)\n",
              "          (conv2): Conv2d(64, 64, kernel_size=(3, 3), stride=(1, 1), padding=(1, 1), bias=False)\n",
              "          (bn2): BatchNorm2d(64, eps=1e-05, momentum=0.1, affine=True, track_running_stats=True)\n",
              "        )\n",
              "        (2): BasicBlock(\n",
              "          (conv1): Conv2d(64, 64, kernel_size=(3, 3), stride=(1, 1), padding=(1, 1), bias=False)\n",
              "          (bn1): BatchNorm2d(64, eps=1e-05, momentum=0.1, affine=True, track_running_stats=True)\n",
              "          (relu): ReLU(inplace=True)\n",
              "          (conv2): Conv2d(64, 64, kernel_size=(3, 3), stride=(1, 1), padding=(1, 1), bias=False)\n",
              "          (bn2): BatchNorm2d(64, eps=1e-05, momentum=0.1, affine=True, track_running_stats=True)\n",
              "        )\n",
              "      )\n",
              "      (5): Sequential(\n",
              "        (0): BasicBlock(\n",
              "          (conv1): Conv2d(64, 128, kernel_size=(3, 3), stride=(2, 2), padding=(1, 1), bias=False)\n",
              "          (bn1): BatchNorm2d(128, eps=1e-05, momentum=0.1, affine=True, track_running_stats=True)\n",
              "          (relu): ReLU(inplace=True)\n",
              "          (conv2): Conv2d(128, 128, kernel_size=(3, 3), stride=(1, 1), padding=(1, 1), bias=False)\n",
              "          (bn2): BatchNorm2d(128, eps=1e-05, momentum=0.1, affine=True, track_running_stats=True)\n",
              "          (downsample): Sequential(\n",
              "            (0): Conv2d(64, 128, kernel_size=(1, 1), stride=(2, 2), bias=False)\n",
              "            (1): BatchNorm2d(128, eps=1e-05, momentum=0.1, affine=True, track_running_stats=True)\n",
              "          )\n",
              "        )\n",
              "        (1): BasicBlock(\n",
              "          (conv1): Conv2d(128, 128, kernel_size=(3, 3), stride=(1, 1), padding=(1, 1), bias=False)\n",
              "          (bn1): BatchNorm2d(128, eps=1e-05, momentum=0.1, affine=True, track_running_stats=True)\n",
              "          (relu): ReLU(inplace=True)\n",
              "          (conv2): Conv2d(128, 128, kernel_size=(3, 3), stride=(1, 1), padding=(1, 1), bias=False)\n",
              "          (bn2): BatchNorm2d(128, eps=1e-05, momentum=0.1, affine=True, track_running_stats=True)\n",
              "        )\n",
              "        (2): BasicBlock(\n",
              "          (conv1): Conv2d(128, 128, kernel_size=(3, 3), stride=(1, 1), padding=(1, 1), bias=False)\n",
              "          (bn1): BatchNorm2d(128, eps=1e-05, momentum=0.1, affine=True, track_running_stats=True)\n",
              "          (relu): ReLU(inplace=True)\n",
              "          (conv2): Conv2d(128, 128, kernel_size=(3, 3), stride=(1, 1), padding=(1, 1), bias=False)\n",
              "          (bn2): BatchNorm2d(128, eps=1e-05, momentum=0.1, affine=True, track_running_stats=True)\n",
              "        )\n",
              "        (3): BasicBlock(\n",
              "          (conv1): Conv2d(128, 128, kernel_size=(3, 3), stride=(1, 1), padding=(1, 1), bias=False)\n",
              "          (bn1): BatchNorm2d(128, eps=1e-05, momentum=0.1, affine=True, track_running_stats=True)\n",
              "          (relu): ReLU(inplace=True)\n",
              "          (conv2): Conv2d(128, 128, kernel_size=(3, 3), stride=(1, 1), padding=(1, 1), bias=False)\n",
              "          (bn2): BatchNorm2d(128, eps=1e-05, momentum=0.1, affine=True, track_running_stats=True)\n",
              "        )\n",
              "      )\n",
              "      (6): Sequential(\n",
              "        (0): BasicBlock(\n",
              "          (conv1): Conv2d(128, 256, kernel_size=(3, 3), stride=(2, 2), padding=(1, 1), bias=False)\n",
              "          (bn1): BatchNorm2d(256, eps=1e-05, momentum=0.1, affine=True, track_running_stats=True)\n",
              "          (relu): ReLU(inplace=True)\n",
              "          (conv2): Conv2d(256, 256, kernel_size=(3, 3), stride=(1, 1), padding=(1, 1), bias=False)\n",
              "          (bn2): BatchNorm2d(256, eps=1e-05, momentum=0.1, affine=True, track_running_stats=True)\n",
              "          (downsample): Sequential(\n",
              "            (0): Conv2d(128, 256, kernel_size=(1, 1), stride=(2, 2), bias=False)\n",
              "            (1): BatchNorm2d(256, eps=1e-05, momentum=0.1, affine=True, track_running_stats=True)\n",
              "          )\n",
              "        )\n",
              "        (1): BasicBlock(\n",
              "          (conv1): Conv2d(256, 256, kernel_size=(3, 3), stride=(1, 1), padding=(1, 1), bias=False)\n",
              "          (bn1): BatchNorm2d(256, eps=1e-05, momentum=0.1, affine=True, track_running_stats=True)\n",
              "          (relu): ReLU(inplace=True)\n",
              "          (conv2): Conv2d(256, 256, kernel_size=(3, 3), stride=(1, 1), padding=(1, 1), bias=False)\n",
              "          (bn2): BatchNorm2d(256, eps=1e-05, momentum=0.1, affine=True, track_running_stats=True)\n",
              "        )\n",
              "        (2): BasicBlock(\n",
              "          (conv1): Conv2d(256, 256, kernel_size=(3, 3), stride=(1, 1), padding=(1, 1), bias=False)\n",
              "          (bn1): BatchNorm2d(256, eps=1e-05, momentum=0.1, affine=True, track_running_stats=True)\n",
              "          (relu): ReLU(inplace=True)\n",
              "          (conv2): Conv2d(256, 256, kernel_size=(3, 3), stride=(1, 1), padding=(1, 1), bias=False)\n",
              "          (bn2): BatchNorm2d(256, eps=1e-05, momentum=0.1, affine=True, track_running_stats=True)\n",
              "        )\n",
              "        (3): BasicBlock(\n",
              "          (conv1): Conv2d(256, 256, kernel_size=(3, 3), stride=(1, 1), padding=(1, 1), bias=False)\n",
              "          (bn1): BatchNorm2d(256, eps=1e-05, momentum=0.1, affine=True, track_running_stats=True)\n",
              "          (relu): ReLU(inplace=True)\n",
              "          (conv2): Conv2d(256, 256, kernel_size=(3, 3), stride=(1, 1), padding=(1, 1), bias=False)\n",
              "          (bn2): BatchNorm2d(256, eps=1e-05, momentum=0.1, affine=True, track_running_stats=True)\n",
              "        )\n",
              "        (4): BasicBlock(\n",
              "          (conv1): Conv2d(256, 256, kernel_size=(3, 3), stride=(1, 1), padding=(1, 1), bias=False)\n",
              "          (bn1): BatchNorm2d(256, eps=1e-05, momentum=0.1, affine=True, track_running_stats=True)\n",
              "          (relu): ReLU(inplace=True)\n",
              "          (conv2): Conv2d(256, 256, kernel_size=(3, 3), stride=(1, 1), padding=(1, 1), bias=False)\n",
              "          (bn2): BatchNorm2d(256, eps=1e-05, momentum=0.1, affine=True, track_running_stats=True)\n",
              "        )\n",
              "        (5): BasicBlock(\n",
              "          (conv1): Conv2d(256, 256, kernel_size=(3, 3), stride=(1, 1), padding=(1, 1), bias=False)\n",
              "          (bn1): BatchNorm2d(256, eps=1e-05, momentum=0.1, affine=True, track_running_stats=True)\n",
              "          (relu): ReLU(inplace=True)\n",
              "          (conv2): Conv2d(256, 256, kernel_size=(3, 3), stride=(1, 1), padding=(1, 1), bias=False)\n",
              "          (bn2): BatchNorm2d(256, eps=1e-05, momentum=0.1, affine=True, track_running_stats=True)\n",
              "        )\n",
              "      )\n",
              "      (7): Sequential(\n",
              "        (0): BasicBlock(\n",
              "          (conv1): Conv2d(256, 512, kernel_size=(3, 3), stride=(2, 2), padding=(1, 1), bias=False)\n",
              "          (bn1): BatchNorm2d(512, eps=1e-05, momentum=0.1, affine=True, track_running_stats=True)\n",
              "          (relu): ReLU(inplace=True)\n",
              "          (conv2): Conv2d(512, 512, kernel_size=(3, 3), stride=(1, 1), padding=(1, 1), bias=False)\n",
              "          (bn2): BatchNorm2d(512, eps=1e-05, momentum=0.1, affine=True, track_running_stats=True)\n",
              "          (downsample): Sequential(\n",
              "            (0): Conv2d(256, 512, kernel_size=(1, 1), stride=(2, 2), bias=False)\n",
              "            (1): BatchNorm2d(512, eps=1e-05, momentum=0.1, affine=True, track_running_stats=True)\n",
              "          )\n",
              "        )\n",
              "        (1): BasicBlock(\n",
              "          (conv1): Conv2d(512, 512, kernel_size=(3, 3), stride=(1, 1), padding=(1, 1), bias=False)\n",
              "          (bn1): BatchNorm2d(512, eps=1e-05, momentum=0.1, affine=True, track_running_stats=True)\n",
              "          (relu): ReLU(inplace=True)\n",
              "          (conv2): Conv2d(512, 512, kernel_size=(3, 3), stride=(1, 1), padding=(1, 1), bias=False)\n",
              "          (bn2): BatchNorm2d(512, eps=1e-05, momentum=0.1, affine=True, track_running_stats=True)\n",
              "        )\n",
              "        (2): BasicBlock(\n",
              "          (conv1): Conv2d(512, 512, kernel_size=(3, 3), stride=(1, 1), padding=(1, 1), bias=False)\n",
              "          (bn1): BatchNorm2d(512, eps=1e-05, momentum=0.1, affine=True, track_running_stats=True)\n",
              "          (relu): ReLU(inplace=True)\n",
              "          (conv2): Conv2d(512, 512, kernel_size=(3, 3), stride=(1, 1), padding=(1, 1), bias=False)\n",
              "          (bn2): BatchNorm2d(512, eps=1e-05, momentum=0.1, affine=True, track_running_stats=True)\n",
              "        )\n",
              "      )\n",
              "    )\n",
              "    (pool): AdaptiveAvgPool2d(output_size=(1, None))\n",
              "  )\n",
              "  (lstm): BiLSTM(\n",
              "    (lstm): LSTM(512, 512, num_layers=2, dropout=0.3, bidirectional=True)\n",
              "    (layer_norm): LayerNorm((1024,), eps=1e-05, elementwise_affine=True)\n",
              "    (out): Sequential(\n",
              "      (0): Linear(in_features=1024, out_features=38, bias=True)\n",
              "      (1): LogSoftmax(dim=2)\n",
              "    )\n",
              "  )\n",
              ")"
            ]
          },
          "metadata": {},
          "execution_count": 9
        }
      ]
    },
    {
      "cell_type": "code",
      "source": [
        "from torchvision import transforms\n",
        "\n",
        "test_transform = transforms.Compose(\n",
        "        [\n",
        "            transforms.Resize((100, 420)),\n",
        "            transforms.Grayscale(num_output_channels=1),\n",
        "            transforms.ToTensor(),\n",
        "            transforms.Normalize((0.5,), (0.5,)),\n",
        "        ]\n",
        "    )\n",
        "\n",
        "from torch.utils.data import DataLoader\n",
        "\n",
        "test_dataset = OCRDataSet(\n",
        "    mode = 'test',\n",
        "    label_encoder = vocab.encode,\n",
        "    transform = test_transform\n",
        ")\n",
        "\n",
        "batch_size = 32\n",
        "\n",
        "loader = DataLoader(\n",
        "    test_dataset,\n",
        "    batch_size=batch_size,\n",
        "    shuffle=False,\n",
        "    num_workers=2,\n",
        "    pin_memory=True\n",
        ")"
      ],
      "metadata": {
        "id": "EtHTcmQ7qm9U"
      },
      "execution_count": 10,
      "outputs": []
    },
    {
      "cell_type": "code",
      "source": [
        "ctc_loss = nn.CTCLoss(blank=1, zero_infinity=True)"
      ],
      "metadata": {
        "id": "xQI7GLVmtK38"
      },
      "execution_count": 11,
      "outputs": []
    },
    {
      "cell_type": "markdown",
      "source": [
        "## Greedy search"
      ],
      "metadata": {
        "id": "3IK7rsujyGhY"
      }
    },
    {
      "cell_type": "code",
      "source": [
        "import torch\n",
        "from tqdm import tqdm\n",
        "\n",
        "def evaluate_model(model, data_loader, device, criterion, vocab_util, epoch=None):\n",
        "    model.eval()\n",
        "    losses = []\n",
        "    all_preds, all_targets = [], []\n",
        "    correct_count = 0\n",
        "\n",
        "    pbar = tqdm(data_loader, desc=f\"Eval Epoch {epoch}\" if epoch is not None else \"Evaluation\", leave=False)\n",
        "    with torch.no_grad():\n",
        "        for inputs, encoded_labels, labels_len in pbar:\n",
        "            inputs = inputs.to(device)\n",
        "            encoded_labels = encoded_labels.to(device)\n",
        "            labels_len = labels_len.to(device)\n",
        "\n",
        "            outputs = model(inputs)  # (T, B, C)\n",
        "            logit_lens = torch.full(\n",
        "                size=(outputs.size(1),),\n",
        "                fill_value=outputs.size(0),\n",
        "                dtype=torch.long\n",
        "            ).to(device)\n",
        "\n",
        "            loss = criterion(outputs, encoded_labels, logit_lens, labels_len)\n",
        "            losses.append(loss.item())\n",
        "\n",
        "            pred_labels = torch.argmax(outputs, dim=2).permute(1, 0)  # (B, T)\n",
        "            pred_texts = vocab_util.decode(pred_labels)\n",
        "            target_texts = vocab_util.idx_2_labels(encoded_labels)\n",
        "\n",
        "            all_preds.extend(pred_texts)\n",
        "            all_targets.extend(target_texts)\n",
        "\n",
        "            for pred, target in zip(pred_texts, target_texts):\n",
        "                if pred == target:\n",
        "                    correct_count += 1\n",
        "\n",
        "            batch_cer = calculate_cer(pred_texts, target_texts)\n",
        "            pbar.set_postfix(loss=loss.item(), cer=batch_cer)\n",
        "\n",
        "    avg_loss = sum(losses) / len(losses)\n",
        "    final_cer = calculate_cer(all_preds, all_targets)\n",
        "    accuracy = correct_count / len(all_preds) if all_preds else 0.0\n",
        "\n",
        "    return avg_loss, final_cer, accuracy\n"
      ],
      "metadata": {
        "id": "p69K4Cp8sWk9"
      },
      "execution_count": 18,
      "outputs": []
    },
    {
      "cell_type": "code",
      "source": [
        "evaluate_model(model, loader, device, ctc_loss, vocab)"
      ],
      "metadata": {
        "colab": {
          "base_uri": "https://localhost:8080/"
        },
        "id": "PdrhlZFssa6s",
        "outputId": "2bde508d-90e6-4d99-bc6b-29593f130d6e"
      },
      "execution_count": 19,
      "outputs": [
        {
          "output_type": "stream",
          "name": "stderr",
          "text": []
        },
        {
          "output_type": "execute_result",
          "data": {
            "text/plain": [
              "(1.1792320907115936, 0.2317024642024642, 0.5454545454545454)"
            ]
          },
          "metadata": {},
          "execution_count": 19
        }
      ]
    },
    {
      "cell_type": "markdown",
      "source": [
        "## Beam search"
      ],
      "metadata": {
        "id": "jW210rSrvucY"
      }
    },
    {
      "cell_type": "code",
      "source": [
        "import torch\n",
        "import torch.nn.functional as F\n",
        "from torch.utils.data import DataLoader\n",
        "from tqdm import tqdm\n",
        "import math\n",
        "\n",
        "def log_sum_exp(a, b):\n",
        "    if a == -float('inf'):\n",
        "        return b\n",
        "    if b == -float('inf'):\n",
        "        return a\n",
        "    return max(a, b) + math.log1p(math.exp(-abs(a - b)))\n",
        "\n",
        "def beam_search_decode(log_probs, beam_width=5, blank_index=1):\n",
        "    T, B, C = log_probs.size()\n",
        "    log_probs = log_probs.cpu()\n",
        "    final_results = []\n",
        "\n",
        "    for b in range(B):\n",
        "        beams = [([], 0.0)]\n",
        "        for t in range(T):\n",
        "            new_beams = {}\n",
        "            for prefix, score in beams:\n",
        "                for c in range(C):\n",
        "                    p = log_probs[t, b, c].item()\n",
        "                    new_prefix = prefix + [c]\n",
        "\n",
        "                    if len(prefix) > 0 and c == prefix[-1]:\n",
        "                        if c == blank_index:\n",
        "                            key = tuple(prefix)\n",
        "                            new_beams[key] = log_sum_exp(new_beams.get(key, -float('inf')), score + p)\n",
        "                        else:\n",
        "                            key = tuple(new_prefix)\n",
        "                            new_beams[key] = log_sum_exp(new_beams.get(key, -float('inf')), score + p)\n",
        "                    else:\n",
        "                        key = tuple(new_prefix)\n",
        "                        new_beams[key] = log_sum_exp(new_beams.get(key, -float('inf')), score + p)\n",
        "\n",
        "            beams = sorted(new_beams.items(), key=lambda x: x[1], reverse=True)[:beam_width]\n",
        "            beams = [(list(k), v) for k, v in beams]\n",
        "\n",
        "        best_seq = beams[0][0]\n",
        "        final_results.append(best_seq)\n",
        "\n",
        "    return final_results\n",
        "\n",
        "def calculate_cer(preds, targets):\n",
        "    import editdistance\n",
        "    total_dist = 0\n",
        "    total_len = 0\n",
        "    for p, t in zip(preds, targets):\n",
        "        total_dist += editdistance.eval(p, t)\n",
        "        total_len += len(t)\n",
        "    return total_dist / total_len if total_len > 0 else 0.0\n",
        "\n",
        "def calculate_acc(preds, targets):\n",
        "    correct = sum(p == t for p, t in zip(preds, targets))\n",
        "    return correct / len(targets) if targets else 0.0\n",
        "\n",
        "def evaluate_model(model, data_loader, device, criterion, vocab_util, epoch=None, beam_width=10):\n",
        "    model.eval()\n",
        "    losses = []\n",
        "    all_preds, all_targets = [], []\n",
        "\n",
        "    with torch.no_grad():\n",
        "        pbar = tqdm(data_loader, desc=f\"Eval Epoch {epoch}\" if epoch else \"Evaluation\", leave=False)\n",
        "        for images, encoded_labels, labels_len in pbar:\n",
        "            images = images.to(device)\n",
        "            encoded_labels = encoded_labels.to(device)\n",
        "            labels_len = labels_len.to(device)\n",
        "\n",
        "            outputs = model(images)  # (T, B, C)\n",
        "            logit_lens = torch.full((outputs.size(1),), outputs.size(0), dtype=torch.long).to(device)\n",
        "\n",
        "            loss = criterion(outputs, encoded_labels, logit_lens, labels_len)\n",
        "            losses.append(loss.item())\n",
        "\n",
        "            log_probs = F.log_softmax(outputs, dim=2)\n",
        "            beam_decoded = beam_search_decode(log_probs, beam_width=beam_width, blank_index=1)\n",
        "\n",
        "            preds = vocab_util.decode(beam_decoded)\n",
        "            targets = vocab_util.idx_2_labels(encoded_labels)\n",
        "\n",
        "            all_preds.extend(preds)\n",
        "            all_targets.extend(targets)\n",
        "\n",
        "            cer = calculate_cer(preds, targets)\n",
        "            acc = calculate_acc(preds, targets)\n",
        "            pbar.set_postfix(loss=loss.item(), cer=cer, acc=acc)\n",
        "\n",
        "    return {\n",
        "        \"loss\": sum(losses) / len(losses),\n",
        "        \"cer\": calculate_cer(all_preds, all_targets),\n",
        "        \"acc\": calculate_acc(all_preds, all_targets),\n",
        "    }\n"
      ],
      "metadata": {
        "id": "hT1pYaH2wPiu"
      },
      "execution_count": 20,
      "outputs": []
    },
    {
      "cell_type": "code",
      "source": [
        "evaluate_model(model, loader, device, ctc_loss, vocab)"
      ],
      "metadata": {
        "colab": {
          "base_uri": "https://localhost:8080/"
        },
        "id": "_zxoPbc7xsiJ",
        "outputId": "07361767-77f3-436c-c4f4-17089b92d324"
      },
      "execution_count": 21,
      "outputs": [
        {
          "output_type": "stream",
          "name": "stderr",
          "text": []
        },
        {
          "output_type": "execute_result",
          "data": {
            "text/plain": [
              "{'loss': 1.1792320907115936,\n",
              " 'cer': 0.18136439267886856,\n",
              " 'acc': 0.5454545454545454}"
            ]
          },
          "metadata": {},
          "execution_count": 21
        }
      ]
    },
    {
      "cell_type": "markdown",
      "source": [
        "#Upload"
      ],
      "metadata": {
        "id": "rZ_xPkYBuIRT"
      }
    },
    {
      "cell_type": "code",
      "source": [
        "import torch\n",
        "from PIL import Image\n",
        "from torchvision import transforms\n",
        "import matplotlib.pyplot as plt\n",
        "import ipywidgets as widgets\n",
        "from IPython.display import display\n",
        "import os\n",
        "\n",
        "\n",
        "# Load best model\n",
        "checkpoint = torch.load(os.path.join(save_path, \"best_model.pt\"), map_location=device)\n",
        "model.load_state_dict(checkpoint[\"model_state_dict\"])\n",
        "model.eval()\n",
        "\n",
        "# Upload widget\n",
        "uploader = widgets.FileUpload(accept='image/*', multiple=False)\n",
        "display(uploader)\n",
        "\n",
        "def predict_image(img_path):\n",
        "    image = Image.open(img_path).convert(\"RGB\")\n",
        "    image_tensor = test_transform(image).unsqueeze(0).to(device)  # (1, C, H, W)\n",
        "\n",
        "    with torch.no_grad():\n",
        "        output = model(image_tensor)  # (T, B, C)\n",
        "        pred_labels = torch.argmax(output, dim=2).permute(1, 0)  # (B=1, T)\n",
        "        print(pred_labels)\n",
        "        pred_texts = vocab.decode(pred_labels)\n",
        "\n",
        "    return pred_texts[0]\n",
        "\n",
        "def on_upload_change(change):\n",
        "    if uploader.value:\n",
        "        uploaded_file = next(iter(uploader.value.values()))\n",
        "        img_data = uploaded_file['content']\n",
        "        file_path = \"uploaded_image.jpg\"\n",
        "        with open(file_path, \"wb\") as f:\n",
        "            f.write(img_data)\n",
        "\n",
        "        pred = predict_image(file_path)\n",
        "        img = Image.open(file_path)\n",
        "        plt.imshow(img)\n",
        "        plt.axis(\"off\")\n",
        "        plt.title(f\"Prediction: {pred}\")\n",
        "        plt.show()\n",
        "\n",
        "uploader.observe(on_upload_change, names='value')\n"
      ],
      "metadata": {
        "colab": {
          "base_uri": "https://localhost:8080/",
          "height": 214,
          "referenced_widgets": [
            "5e12ce2b18624f998782270163f9745d",
            "b165842d76a34a429d6df43fd66a2fe5",
            "2b83c49061204b52bafc4a54ad286c84"
          ]
        },
        "id": "e27e8Fgike46",
        "outputId": "ef710d20-41b1-42f3-fd65-588f501abdce"
      },
      "execution_count": 17,
      "outputs": [
        {
          "output_type": "display_data",
          "data": {
            "text/plain": [
              "FileUpload(value={}, accept='image/*', description='Upload')"
            ],
            "application/vnd.jupyter.widget-view+json": {
              "version_major": 2,
              "version_minor": 0,
              "model_id": "5e12ce2b18624f998782270163f9745d"
            }
          },
          "metadata": {}
        },
        {
          "output_type": "stream",
          "name": "stdout",
          "text": [
            "tensor([[ 1, 30,  1, 26, 17,  1, 31, 34,  1, 12, 12, 29,  1, 16]],\n",
            "       device='cuda:0')\n"
          ]
        },
        {
          "output_type": "display_data",
          "data": {
            "text/plain": [
              "<Figure size 640x480 with 1 Axes>"
            ],
            "image/png": "[encoded data removed]"
          },
          "metadata": {}
        }
      ]
    }
  ]
}